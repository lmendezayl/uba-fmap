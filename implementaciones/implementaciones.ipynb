{
 "cells": [
  {
   "cell_type": "code",
   "execution_count": null,
   "metadata": {},
   "outputs": [],
   "source": [
    "import numpy as np\n",
    "import matplotlib.pyplot as plt"
   ]
  },
  {
   "cell_type": "code",
   "execution_count": 13,
   "metadata": {},
   "outputs": [
    {
     "data": {
      "text/plain": [
       "2.3"
      ]
     },
     "execution_count": 13,
     "metadata": {},
     "output_type": "execute_result"
    }
   ],
   "source": [
    "# Ejemplo de una neurona con 3 entradas y una salida\n",
    "\n",
    "inputs = [1, 2, 3]\n",
    "weights = [0.2, 0.8, -0.5]\n",
    "bias = 2\n",
    "\n",
    "output = (inputs[0]*weights[0] +\n",
    "          inputs[1]*weights[1] +\n",
    "          inputs[2]*weights[2] + bias)\n",
    "output"
   ]
  },
  {
   "cell_type": "code",
   "execution_count": null,
   "metadata": {},
   "outputs": [
    {
     "name": "stdout",
     "output_type": "stream",
     "text": [
      "[4.8, 1.21, 2.385]\n"
     ]
    }
   ],
   "source": [
    "# Ejemplo de una red neuronal de 3 entradas y 3 salidas\n",
    "\n",
    "inputs = [1, 2, 3, 2.5]\n",
    "weights1 = [0.2, 0.8, -0.5, 1]\n",
    "weights2 = [0.5, -0.91, 0.26, -0.5]\n",
    "weights3 = [-0.26, -0.27, 0.17, 0.87]\n",
    "bias1 = 2\n",
    "bias2 = 3\n",
    "bias3 = 0.5\n",
    "\n",
    "outputs = [\n",
    "        inputs[0]*weights1[0] + inputs[1]*weights1[1] + inputs[2]*weights1[2] + inputs[3]*weights1[3] + bias1,\n",
    "        inputs[0]*weights2[0] + inputs[1]*weights2[1] + inputs[2]*weights2[2] + inputs[3]*weights2[3] + bias2,\n",
    "        inputs[0]*weights3[0] + inputs[1]*weights3[1] + inputs[2]*weights3[2] + inputs[3]*weights3[3] + bias3\n",
    "        ]\n",
    "print(outputs)"
   ]
  },
  {
   "cell_type": "code",
   "execution_count": 19,
   "metadata": {},
   "outputs": [
    {
     "data": {
      "text/plain": [
       "[4.8, 1.21, 2.385]"
      ]
     },
     "execution_count": 19,
     "metadata": {},
     "output_type": "execute_result"
    }
   ],
   "source": [
    "# Podemos hacer un bucle for para manejar inputs y capas dinamicamente\n",
    "\n",
    "inputs = [1, 2, 3, 2.5]\n",
    "weights = [[0.2,    0.8,    -0.5,   1],\n",
    "           [0.5,    -0.91,  0.26,   -0.5],\n",
    "           [-0.26,  -0.27,  0.17,  0.87]]\n",
    "\n",
    "biases = [2, 3, 0.5]\n",
    "\n",
    "# Salida de capa actual\n",
    "layer_outputs = []\n",
    "# Para cada neurona\n",
    "for neuron_weights, neuron_bias in zip(weights, biases):\n",
    "    # Salida iniciada en 0 de dicha neurona\n",
    "    neuron_output = 0\n",
    "    # Para cada entrada y peso en esta neurona\n",
    "    for n_input, weight in zip(inputs, neuron_weights):\n",
    "        # Mutlplico la entrada por peso asociado\n",
    "        # y sumo a la variable de salida de la neurona\n",
    "        neuron_output = neuron_output + (n_input * weight)\n",
    "    # Sumo bias\n",
    "    neuron_output = neuron_output + neuron_bias\n",
    "    # Agrego resultado a lista de salidas\n",
    "    layer_outputs.append(neuron_output)\n",
    "    \n",
    "layer_outputs\n"
   ]
  },
  {
   "cell_type": "code",
   "execution_count": 21,
   "metadata": {},
   "outputs": [
    {
     "name": "stdout",
     "output_type": "stream",
     "text": [
      "4.8\n",
      "[4.8   1.21  2.385]\n"
     ]
    }
   ],
   "source": [
    "# Ahora una neurona con NumPy\n",
    "inputs = [1.0, 2.0, 3.0, 2.5]\n",
    "weights = [0.2, 0.8, -0.5, 1.0]\n",
    "bias = 2.0\n",
    "# Nos ahorramos hacer las operaciones a mano\n",
    "outputs = np.dot(weights, inputs) + bias\n",
    "print(outputs)\n",
    "\n",
    "# Ahora una red neuronal con NumPy\n",
    "inputs = [1.0, 2.0, 3.0, 2.5]\n",
    "weights = [[0.2,    0.8,    -0.5,   1],\n",
    "           [0.5,    -0.91,  0.26,   -0.5],\n",
    "           [-0.26,  -0.27,  0.17,   0.87]]\n",
    "biases = [2.0, 3.0, 0.5]\n",
    "# Lo mismo para redes neuronales, la funcion np.dot se ocupa de hacer todo\n",
    "layer_outputs = np.dot(weights, inputs) + biases\n",
    "print(layer_outputs)\n"
   ]
  },
  {
   "cell_type": "code",
   "execution_count": null,
   "metadata": {},
   "outputs": [],
   "source": []
  }
 ],
 "metadata": {
  "kernelspec": {
   "display_name": "labo-datos",
   "language": "python",
   "name": "python3"
  },
  "language_info": {
   "codemirror_mode": {
    "name": "ipython",
    "version": 3
   },
   "file_extension": ".py",
   "mimetype": "text/x-python",
   "name": "python",
   "nbconvert_exporter": "python",
   "pygments_lexer": "ipython3",
   "version": "3.13.2"
  }
 },
 "nbformat": 4,
 "nbformat_minor": 2
}
