{
  "nbformat": 4,
  "nbformat_minor": 0,
  "metadata": {
    "colab": {
      "provenance": []
    },
    "kernelspec": {
      "name": "python3",
      "display_name": "Python 3"
    },
    "language_info": {
      "name": "python"
    }
  },
  "cells": [
    {
      "cell_type": "markdown",
      "source": [
        "#Introducción a Python y Google Colab\n",
        "\n",
        "Si estamos acá es que todos pudimos abrir una notebook de Google Colab en la computadora.\n",
        "\n",
        "Etapa 1 cumplida!"
      ],
      "metadata": {
        "id": "qhygrEWgFdhy"
      }
    },
    {
      "cell_type": "markdown",
      "source": [
        "#Python como una calculadora\n",
        "\n"
      ],
      "metadata": {
        "id": "cSKsmJTRF-wE"
      }
    },
    {
      "cell_type": "markdown",
      "source": [
        "Con Python podemos hacer cáculos simples. Para eso abrimos una celda de código"
      ],
      "metadata": {
        "id": "CzKpA3SpoegS"
      }
    },
    {
      "cell_type": "code",
      "source": [
        "type(2*(5-1)/4)\n"
      ],
      "metadata": {
        "colab": {
          "base_uri": "https://localhost:8080/"
        },
        "id": "r9BVCTg0GQNa",
        "outputId": "2deae14d-be80-47e9-add5-37d38b253a37"
      },
      "execution_count": null,
      "outputs": [
        {
          "output_type": "execute_result",
          "data": {
            "text/plain": [
              "float"
            ]
          },
          "metadata": {},
          "execution_count": 109
        }
      ]
    },
    {
      "cell_type": "code",
      "source": [
        "4**3"
      ],
      "metadata": {
        "colab": {
          "base_uri": "https://localhost:8080/"
        },
        "id": "YpvhvnT2UhSx",
        "outputId": "aa4d83bb-a18c-4aea-9a82-2ce6e7a1d38d"
      },
      "execution_count": null,
      "outputs": [
        {
          "output_type": "execute_result",
          "data": {
            "text/plain": [
              "64"
            ]
          },
          "metadata": {},
          "execution_count": 110
        }
      ]
    },
    {
      "cell_type": "markdown",
      "source": [
        "#Variables\n",
        "\n"
      ],
      "metadata": {
        "id": "kXsJTBlfGnST"
      }
    },
    {
      "cell_type": "markdown",
      "source": [
        "Podemos definir variables en Python. Una variable puede tener el nombre que nosotros querramos y para asignarle un valor se usa el símbolo =\n"
      ],
      "metadata": {
        "id": "HsGSJtjnoq3r"
      }
    },
    {
      "cell_type": "code",
      "source": [
        "x=5\n",
        "x0=4\n",
        "\n",
        "papa=3\n",
        "2*(x-1)/x0"
      ],
      "metadata": {
        "colab": {
          "base_uri": "https://localhost:8080/"
        },
        "id": "OmUd7jR5G5tP",
        "outputId": "bf73d038-56f6-4673-cf68-d0ef0a43ccde"
      },
      "execution_count": null,
      "outputs": [
        {
          "output_type": "execute_result",
          "data": {
            "text/plain": [
              "2.0"
            ]
          },
          "metadata": {},
          "execution_count": 116
        }
      ]
    },
    {
      "cell_type": "markdown",
      "source": [
        "El símbolo = es una asignación, así que se realizar este tipo de cosas\n",
        "$$\n",
        "x=x+1\n",
        "$$\n",
        "tiene sentido en Python"
      ],
      "metadata": {
        "id": "xIDE6avvHEj7"
      }
    },
    {
      "cell_type": "code",
      "source": [
        "x=x+1\n",
        "x"
      ],
      "metadata": {
        "colab": {
          "base_uri": "https://localhost:8080/"
        },
        "id": "AmdJXOvSHNZu",
        "outputId": "34bd4d01-247a-4d21-c058-1fff08fad054"
      },
      "execution_count": null,
      "outputs": [
        {
          "output_type": "execute_result",
          "data": {
            "text/plain": [
              "6"
            ]
          },
          "metadata": {},
          "execution_count": 118
        }
      ]
    },
    {
      "cell_type": "markdown",
      "source": [
        "Muy distinto es si queremos usar el = como en matemática. Por ejemplo, si queremos preguntar si $x=5$ hacemos"
      ],
      "metadata": {
        "id": "L-guE7_uHSrN"
      }
    },
    {
      "cell_type": "code",
      "source": [
        "x==x0+1"
      ],
      "metadata": {
        "colab": {
          "base_uri": "https://localhost:8080/"
        },
        "id": "7SWGc_mXHZhE",
        "outputId": "59a6141c-46c9-44c1-dd92-6b5908f357e6"
      },
      "execution_count": null,
      "outputs": [
        {
          "output_type": "execute_result",
          "data": {
            "text/plain": [
              "False"
            ]
          },
          "metadata": {},
          "execution_count": 119
        }
      ]
    },
    {
      "cell_type": "markdown",
      "source": [
        "#Tipos de datos\n",
        "\n"
      ],
      "metadata": {
        "id": "FXvS9fXlHvvF"
      }
    },
    {
      "cell_type": "markdown",
      "source": [
        "Vimos que hay distintos tipos de datos. Vimos int, float y False-True (booleano)."
      ],
      "metadata": {
        "id": "4LqftXhxowwc"
      }
    },
    {
      "cell_type": "code",
      "source": [
        "entero = 7\n",
        "decimal = 3.14\n",
        "texto = \"Hola\"\n",
        "booleano = True\n",
        "\n",
        "type(entero)\n",
        "type(decimal)\n",
        "#print(type(entero))\n",
        "#print(type(decimal))\n",
        "#print(type(texto))\n",
        "#print(type(booleano))"
      ],
      "metadata": {
        "colab": {
          "base_uri": "https://localhost:8080/"
        },
        "id": "qmx1ACK6H-9Q",
        "outputId": "9e072181-962b-4c72-ba6b-4c68f87e1fb0"
      },
      "execution_count": null,
      "outputs": [
        {
          "output_type": "execute_result",
          "data": {
            "text/plain": [
              "float"
            ]
          },
          "metadata": {},
          "execution_count": 125
        }
      ]
    },
    {
      "cell_type": "markdown",
      "source": [
        "#Operaciones con datos"
      ],
      "metadata": {
        "id": "L9fguyt-IINd"
      }
    },
    {
      "cell_type": "markdown",
      "source": [
        "Para realizar operaciones con datos, se necesitan funciones. Algunas muy elementales ya están incorporadas a Python"
      ],
      "metadata": {
        "id": "XSSSUrxJo4Lq"
      }
    },
    {
      "cell_type": "code",
      "source": [
        "print(abs(-5))\n",
        "print(round(2.678, 2))\n",
        "print(len(\"Python\"))"
      ],
      "metadata": {
        "colab": {
          "base_uri": "https://localhost:8080/"
        },
        "id": "um3Ex1cKIU68",
        "outputId": "4e939d69-d62b-47ef-9356-020910bad15c"
      },
      "execution_count": null,
      "outputs": [
        {
          "output_type": "stream",
          "name": "stdout",
          "text": [
            "5\n",
            "2.68\n",
            "6\n"
          ]
        }
      ]
    },
    {
      "cell_type": "markdown",
      "source": [
        "#NumPy\n"
      ],
      "metadata": {
        "id": "4TZpbhnTR2SV"
      }
    },
    {
      "cell_type": "markdown",
      "source": [
        "\n",
        "Para poder usar funciones más avanzadas o trabajar con otro tipo de datos (matrices, vectores, etc) es muy útil usar paquetes que le agregan funcionalidades al Python. El más común es NumPy"
      ],
      "metadata": {
        "id": "UDgevs-SpAwH"
      }
    },
    {
      "cell_type": "code",
      "source": [
        "import numpy as np"
      ],
      "metadata": {
        "id": "yKu7n9bYT3xC"
      },
      "execution_count": null,
      "outputs": []
    },
    {
      "cell_type": "markdown",
      "source": [
        "np es la forma habitual de llamar a NumPy. Se puede reemplazar por cualquier otro anacrónico o simplemente usar numpy, pero np es lo estándar. Luego para usar cualquier función de esta librería, hay que poner siempre np.nombre_de_la_función"
      ],
      "metadata": {
        "id": "-UEBeLH6T7-S"
      }
    },
    {
      "cell_type": "code",
      "source": [
        "print(np.pi)\n",
        "print(np.sqrt(2))\n",
        "print(np.exp(1))"
      ],
      "metadata": {
        "colab": {
          "base_uri": "https://localhost:8080/"
        },
        "id": "c0i3kuGBUUJ0",
        "outputId": "ca856362-1608-4816-dfe7-a965809e6144"
      },
      "execution_count": null,
      "outputs": [
        {
          "output_type": "stream",
          "name": "stdout",
          "text": [
            "3.141592653589793\n",
            "1.4142135623730951\n",
            "2.718281828459045\n"
          ]
        }
      ]
    },
    {
      "cell_type": "code",
      "source": [
        "type(np.pi)"
      ],
      "metadata": {
        "colab": {
          "base_uri": "https://localhost:8080/"
        },
        "id": "BVadiIn_yPk2",
        "outputId": "2b0bd1e2-a199-4c16-f624-74fb8b628302"
      },
      "execution_count": null,
      "outputs": [
        {
          "output_type": "execute_result",
          "data": {
            "text/plain": [
              "float"
            ]
          },
          "metadata": {},
          "execution_count": 129
        }
      ]
    },
    {
      "cell_type": "markdown",
      "source": [
        "Por ejemplo, usando NumPy tenemos definidas las funciones trigonométricas, exponenciales y logaritmos:\n",
        "\n",
        "np.sin\n",
        "\n",
        "np.cos\n",
        "\n",
        "np.tan\n",
        "\n",
        "np.exp\n",
        "\n",
        "np.log"
      ],
      "metadata": {
        "id": "BMhHJM6IU1VZ"
      }
    },
    {
      "cell_type": "markdown",
      "source": [
        "#Funciones\n"
      ],
      "metadata": {
        "id": "fAvlNlJ6V40K"
      }
    },
    {
      "cell_type": "markdown",
      "source": [
        "\n",
        "A partir de estas funciones elementales, queremos nosotros ser capaces de construir nuestras propias funciones."
      ],
      "metadata": {
        "id": "ns08wPa2pG02"
      }
    },
    {
      "cell_type": "code",
      "source": [
        "def f(x):\n",
        "  return x**2+1\n",
        "\n",
        "f(4)"
      ],
      "metadata": {
        "colab": {
          "base_uri": "https://localhost:8080/"
        },
        "id": "5ANxpJr1WCCF",
        "outputId": "7aa4aaf6-f012-46f3-df8d-3eab8a6c81d5"
      },
      "execution_count": null,
      "outputs": [
        {
          "output_type": "execute_result",
          "data": {
            "text/plain": [
              "17"
            ]
          },
          "metadata": {},
          "execution_count": 131
        }
      ]
    },
    {
      "cell_type": "code",
      "source": [
        "def s(x):\n",
        "  return np.sin(np.pi*x)\n",
        "\n",
        "s(0.5)"
      ],
      "metadata": {
        "colab": {
          "base_uri": "https://localhost:8080/"
        },
        "id": "mAYfAmBRWTuw",
        "outputId": "d7437adb-9bb4-4400-d13c-1e414ab789de"
      },
      "execution_count": null,
      "outputs": [
        {
          "output_type": "execute_result",
          "data": {
            "text/plain": [
              "np.float64(1.0)"
            ]
          },
          "metadata": {},
          "execution_count": 132
        }
      ]
    },
    {
      "cell_type": "markdown",
      "source": [
        "#Condicionales\n",
        "\n"
      ],
      "metadata": {
        "id": "70pif9nbW6HP"
      }
    },
    {
      "cell_type": "markdown",
      "source": [
        "Una herramienta fundamental es el condicional \"if... else...\" que permite, por ejemplo, definir funciones partidas.\n",
        "\n",
        "Supongamos que queremos definir la función\n",
        "$$\n",
        "g(x) = \\begin{cases}\n",
        "x^2+1 & \\text{si } x<0\\\\\n",
        "x+1 & \\text{si } x\\ge 0\n",
        "\\end{cases}\n",
        "$$"
      ],
      "metadata": {
        "id": "uY9O0ahmpOHU"
      }
    },
    {
      "cell_type": "code",
      "source": [
        "def g(x):\n",
        "  if x<0:\n",
        "    return x**2+1\n",
        "  else:\n",
        "    return x+1\n",
        "\n",
        "print(g(3))\n",
        "print(g(-1))"
      ],
      "metadata": {
        "colab": {
          "base_uri": "https://localhost:8080/"
        },
        "id": "dn6H4mUYXpE2",
        "outputId": "6315607b-38be-476f-e290-8831aa0a866b"
      },
      "execution_count": null,
      "outputs": [
        {
          "output_type": "stream",
          "name": "stdout",
          "text": [
            "4\n",
            "2\n"
          ]
        }
      ]
    },
    {
      "cell_type": "markdown",
      "source": [
        "#Gráficos\n",
        "\n"
      ],
      "metadata": {
        "id": "s9WS9Tb-YX7j"
      }
    },
    {
      "cell_type": "markdown",
      "source": [
        "Para poder realizar gráficos de estas funciones, Python cuenta con varias librerías. Probablemente la más común es MatPlotLib. Esta librería es muy grande y no es necesaria importarla completa, dentro de esta librería hay una \"sublibrería\" llamada PyPlot que contiene lo necesario para graficar funciones. Luego importamos matplotlib.pyplot y le damos un acrónimo. El más usual es plt."
      ],
      "metadata": {
        "id": "u9I76cplpUDd"
      }
    },
    {
      "cell_type": "code",
      "source": [
        "import matplotlib.pyplot as plt\n"
      ],
      "metadata": {
        "id": "H2DthhMJY5k_"
      },
      "execution_count": null,
      "outputs": []
    },
    {
      "cell_type": "markdown",
      "source": [
        "Supongamos que queremos graficar alguna de las funciones que definimos:\n",
        "$$\n",
        "s(x) = \\sin(\\pi x).\n",
        "$$\n",
        "\n",
        "Para eso, se procede de la siguiente manera:\n",
        "\n",
        "1.  Definimos una lista de puntos en un intervalo de la recta (e.g. $[-1,1]$). Para eso se una el comando de NumPy np.linspace\n",
        "2. Evaluamos la función en los puntos de esa lista\n",
        "3. Se arma una figura con el comando plt.figure en donde se realizará el gráfico\n",
        "4. Con el comando plt.plot se grafican los valores de $x$ contra los de $s(x)$\n",
        "5. Finalmente se le pide a Python que muestre el gráfico con el comando plt.show"
      ],
      "metadata": {
        "id": "xuK02omcZHxx"
      }
    },
    {
      "cell_type": "code",
      "source": [
        "x=np.linspace(-1,1,100) #se indica inicio y final del intervalo y el número de puntos que samplea\n",
        "y=s(x)\n",
        "plt.figure()\n",
        "plt.plot(x,y)\n",
        "plt.show()"
      ],
      "metadata": {
        "colab": {
          "base_uri": "https://localhost:8080/",
          "height": 430
        },
        "id": "GvALWQweaJoA",
        "outputId": "e31ea30b-5d43-4636-b661-59e66b03e389"
      },
      "execution_count": null,
      "outputs": [
        {
          "output_type": "display_data",
          "data": {
            "text/plain": [
              "<Figure size 640x480 with 1 Axes>"
            ],
            "image/png": "[encoded data removed]"
          },
          "metadata": {}
        }
      ]
    },
    {
      "cell_type": "markdown",
      "source": [
        "Se puede \"mejorar\" el gráfico, por ejemplo agregando los ejes o una malla, un título al gráfico y etiquetar la curva."
      ],
      "metadata": {
        "id": "IWLgpPcxao97"
      }
    },
    {
      "cell_type": "code",
      "source": [
        "plt.figure()\n",
        "plt.plot(x, y, label=\"$s(x)=\\sin(\\pi x)$\") #el comando label agrega una etiqueta a la curva\n",
        "plt.axhline(0, color='red', linestyle='--') #dibuja el eje x con linea punteada gris\n",
        "plt.axvline(0, color='gray', linestyle='--') #diguja el eje y con linea punteada gris\n",
        "plt.title(\"Gráfico de s(x)\") #pone título al gráfico\n",
        "plt.grid(False) #dice que grafic la grilla\n",
        "plt.legend() #escribe las etiquetas\n",
        "plt.show() #muestra la figura"
      ],
      "metadata": {
        "colab": {
          "base_uri": "https://localhost:8080/",
          "height": 452
        },
        "id": "Cuz_vSTyazQv",
        "outputId": "09bde80d-c4bd-47c4-a208-b385c82375d8"
      },
      "execution_count": null,
      "outputs": [
        {
          "output_type": "display_data",
          "data": {
            "text/plain": [
              "<Figure size 640x480 with 1 Axes>"
            ],
            "image/png": "[encoded data removed]"
          },
          "metadata": {}
        }
      ]
    },
    {
      "cell_type": "code",
      "source": [
        "import matplotlib.pyplot as plt\n",
        "\n",
        "plt.figure()\n",
        "plt.plot(x, y, label=\"$s(x)=\\sin(\\pi x)$\")  # el comando label agrega una etiqueta a la curva\n",
        "plt.axhline(0, color='red', linestyle='--')  # dibuja el eje x con línea punteada roja\n",
        "plt.axvline(0, color='gray', linestyle='--')  # dibuja el eje y con línea punteada gris\n",
        "plt.title(\"Gráfico de s(x)\")  # pone título al gráfico\n",
        "plt.grid(False)  # quita la grilla\n",
        "plt.legend()  # muestra las etiquetas\n",
        "plt.gca().spines['top'].set_visible(False)  # oculta el borde superior\n",
        "plt.gca().spines['right'].set_visible(False)  # oculta el borde derecho\n",
        "plt.gca().spines['bottom'].set_position('zero')  # mueve el borde inferior al eje x\n",
        "plt.gca().spines['left'].set_position('zero')  # mueve el borde izquierdo al eje y\n",
        "plt.show()  # muestra la figura\n"
      ],
      "metadata": {
        "colab": {
          "base_uri": "https://localhost:8080/",
          "height": 435
        },
        "id": "K0OrbVSc5rb-",
        "outputId": "84016afa-7f8b-4cd8-9536-44613a4b4c6f"
      },
      "execution_count": null,
      "outputs": [
        {
          "output_type": "display_data",
          "data": {
            "text/plain": [
              "<Figure size 640x480 with 1 Axes>"
            ],
            "image/png": "[encoded data removed]"
          },
          "metadata": {}
        }
      ]
    },
    {
      "cell_type": "markdown",
      "source": [
        "Hagamos lo mismo con la función partida $g(x)$"
      ],
      "metadata": {
        "id": "SPaF19YncNiL"
      }
    },
    {
      "cell_type": "code",
      "source": [
        "x=np.linspace(-3,3,100)\n",
        "y=g(x)\n",
        "plt.figure()\n",
        "plt.plot(x, y, label=\"$g(x)$\")\n",
        "plt.axhline(0, color='gray', linestyle='--')\n",
        "plt.axvline(0, color='gray', linestyle='--')\n",
        "plt.title(\"Gráfico de la función partida\")\n",
        "plt.grid(True)\n",
        "plt.legend()\n",
        "plt.show()"
      ],
      "metadata": {
        "colab": {
          "base_uri": "https://localhost:8080/",
          "height": 332
        },
        "id": "wlNM5bAjcQ8Q",
        "outputId": "73ab586d-c6ac-4118-eebe-eb346bed9760"
      },
      "execution_count": null,
      "outputs": [
        {
          "output_type": "error",
          "ename": "ValueError",
          "evalue": "The truth value of an array with more than one element is ambiguous. Use a.any() or a.all()",
          "traceback": [
            "\u001b[0;31m---------------------------------------------------------------------------\u001b[0m",
            "\u001b[0;31mValueError\u001b[0m                                Traceback (most recent call last)",
            "\u001b[0;32m<ipython-input-156-8378d99bba87>\u001b[0m in \u001b[0;36m<cell line: 0>\u001b[0;34m()\u001b[0m\n\u001b[1;32m      1\u001b[0m \u001b[0mx\u001b[0m\u001b[0;34m=\u001b[0m\u001b[0mnp\u001b[0m\u001b[0;34m.\u001b[0m\u001b[0mlinspace\u001b[0m\u001b[0;34m(\u001b[0m\u001b[0;34m-\u001b[0m\u001b[0;36m3\u001b[0m\u001b[0;34m,\u001b[0m\u001b[0;36m3\u001b[0m\u001b[0;34m,\u001b[0m\u001b[0;36m100\u001b[0m\u001b[0;34m)\u001b[0m\u001b[0;34m\u001b[0m\u001b[0;34m\u001b[0m\u001b[0m\n\u001b[0;32m----> 2\u001b[0;31m \u001b[0my\u001b[0m\u001b[0;34m=\u001b[0m\u001b[0mg\u001b[0m\u001b[0;34m(\u001b[0m\u001b[0mx\u001b[0m\u001b[0;34m)\u001b[0m\u001b[0;34m\u001b[0m\u001b[0;34m\u001b[0m\u001b[0m\n\u001b[0m\u001b[1;32m      3\u001b[0m \u001b[0mplt\u001b[0m\u001b[0;34m.\u001b[0m\u001b[0mfigure\u001b[0m\u001b[0;34m(\u001b[0m\u001b[0;34m)\u001b[0m\u001b[0;34m\u001b[0m\u001b[0;34m\u001b[0m\u001b[0m\n\u001b[1;32m      4\u001b[0m \u001b[0mplt\u001b[0m\u001b[0;34m.\u001b[0m\u001b[0mplot\u001b[0m\u001b[0;34m(\u001b[0m\u001b[0mx\u001b[0m\u001b[0;34m,\u001b[0m \u001b[0my\u001b[0m\u001b[0;34m,\u001b[0m \u001b[0mlabel\u001b[0m\u001b[0;34m=\u001b[0m\u001b[0;34m\"$g(x)$\"\u001b[0m\u001b[0;34m)\u001b[0m\u001b[0;34m\u001b[0m\u001b[0;34m\u001b[0m\u001b[0m\n\u001b[1;32m      5\u001b[0m \u001b[0mplt\u001b[0m\u001b[0;34m.\u001b[0m\u001b[0maxhline\u001b[0m\u001b[0;34m(\u001b[0m\u001b[0;36m0\u001b[0m\u001b[0;34m,\u001b[0m \u001b[0mcolor\u001b[0m\u001b[0;34m=\u001b[0m\u001b[0;34m'gray'\u001b[0m\u001b[0;34m,\u001b[0m \u001b[0mlinestyle\u001b[0m\u001b[0;34m=\u001b[0m\u001b[0;34m'--'\u001b[0m\u001b[0;34m)\u001b[0m\u001b[0;34m\u001b[0m\u001b[0;34m\u001b[0m\u001b[0m\n",
            "\u001b[0;32m<ipython-input-133-e9e1f5e344cd>\u001b[0m in \u001b[0;36mg\u001b[0;34m(x)\u001b[0m\n\u001b[1;32m      1\u001b[0m \u001b[0;32mdef\u001b[0m \u001b[0mg\u001b[0m\u001b[0;34m(\u001b[0m\u001b[0mx\u001b[0m\u001b[0;34m)\u001b[0m\u001b[0;34m:\u001b[0m\u001b[0;34m\u001b[0m\u001b[0;34m\u001b[0m\u001b[0m\n\u001b[0;32m----> 2\u001b[0;31m   \u001b[0;32mif\u001b[0m \u001b[0mx\u001b[0m\u001b[0;34m<\u001b[0m\u001b[0;36m0\u001b[0m\u001b[0;34m:\u001b[0m\u001b[0;34m\u001b[0m\u001b[0;34m\u001b[0m\u001b[0m\n\u001b[0m\u001b[1;32m      3\u001b[0m     \u001b[0;32mreturn\u001b[0m \u001b[0mx\u001b[0m\u001b[0;34m**\u001b[0m\u001b[0;36m2\u001b[0m\u001b[0;34m+\u001b[0m\u001b[0;36m1\u001b[0m\u001b[0;34m\u001b[0m\u001b[0;34m\u001b[0m\u001b[0m\n\u001b[1;32m      4\u001b[0m   \u001b[0;32melse\u001b[0m\u001b[0;34m:\u001b[0m\u001b[0;34m\u001b[0m\u001b[0;34m\u001b[0m\u001b[0m\n\u001b[1;32m      5\u001b[0m     \u001b[0;32mreturn\u001b[0m \u001b[0mx\u001b[0m\u001b[0;34m+\u001b[0m\u001b[0;36m1\u001b[0m\u001b[0;34m\u001b[0m\u001b[0;34m\u001b[0m\u001b[0m\n",
            "\u001b[0;31mValueError\u001b[0m: The truth value of an array with more than one element is ambiguous. Use a.any() or a.all()"
          ]
        }
      ]
    },
    {
      "cell_type": "markdown",
      "source": [
        "ups!"
      ],
      "metadata": {
        "id": "kQFIfZk5c2R9"
      }
    },
    {
      "cell_type": "code",
      "source": [
        "x=np.linspace(-3,3,100)\n",
        "y=[]\n",
        "for t in x:\n",
        "  y.append(g(t))\n",
        "plt.figure()\n",
        "plt.plot(x, y, label=\"$g(x)$\")\n",
        "plt.axhline(0, color='gray', linestyle='--')\n",
        "plt.axvline(0, color='gray', linestyle='--')\n",
        "plt.title(\"Gráfico de la función partida\")\n",
        "plt.grid(True)\n",
        "plt.legend()\n",
        "plt.show()"
      ],
      "metadata": {
        "colab": {
          "base_uri": "https://localhost:8080/",
          "height": 453
        },
        "id": "CF8J2WrpdF2E",
        "outputId": "3f75e43c-5602-49ed-f8a8-77b2ba40a297"
      },
      "execution_count": null,
      "outputs": [
        {
          "output_type": "display_data",
          "data": {
            "text/plain": [
              "<Figure size 640x480 with 1 Axes>"
            ],
            "image/png": "[encoded data removed]"
          },
          "metadata": {}
        }
      ]
    },
    {
      "cell_type": "markdown",
      "source": [
        "Alternativa... modifiquemos la definición de $g$"
      ],
      "metadata": {
        "id": "15J3YwnEdlRI"
      }
    },
    {
      "cell_type": "code",
      "source": [
        "def g_mod(x):\n",
        "  return np.where(x>0, x+1, x**2+1)\n",
        "\n",
        "x=np.linspace(-3,3,100)\n",
        "y=g_mod(x)\n",
        "\n",
        "plt.figure()\n",
        "plt.plot(x, y, label=\"$g(x)$\")\n",
        "plt.axhline(0, color='gray', linestyle='--')\n",
        "plt.axvline(0, color='gray', linestyle='--')\n",
        "plt.title(\"Gráfico de la función partida\")\n",
        "plt.grid(True)\n",
        "plt.legend()\n",
        "plt.show()"
      ],
      "metadata": {
        "colab": {
          "base_uri": "https://localhost:8080/",
          "height": 453
        },
        "id": "5IRSPtWGdqwf",
        "outputId": "cf483a33-5f21-44cf-fa08-9a14dfc6d04e"
      },
      "execution_count": null,
      "outputs": [
        {
          "output_type": "display_data",
          "data": {
            "text/plain": [
              "<Figure size 640x480 with 1 Axes>"
            ],
            "image/png": "[encoded data removed]"
          },
          "metadata": {}
        }
      ]
    },
    {
      "cell_type": "markdown",
      "source": [
        "#Ejercicio!\n",
        "\n",
        "Definir y graficar las funciones de activación que vimos en clase\n",
        "\n",
        "1. $\\phi(x) = kx$ con $k>0$\n",
        "2. $H(x)$ Heaviside\n",
        "3. $S(x)$ función de signo\n",
        "4. $ReLU(x)$ Unidad de rectificación lineal\n",
        "5. $\\sigma(x) = (1+e^{-x})^{-1}$ función sigmoide\n",
        "6. $\\mathbf t(x) = \\tanh x = \\frac{e^x - e^{-x}}{e^x+e^{-x}}$\n",
        "7. $G(x) = e^{-x^2}$ Gaussiana\n",
        "8. $D(x) = e^{-\\lambda|x|}$ Doble exponencial ($\\lambda>0$)\n"
      ],
      "metadata": {
        "id": "44KMxQd6evYF"
      }
    },
    {
      "cell_type": "markdown",
      "source": [
        "#Vectores, matrices y operaciones matriciales\n"
      ],
      "metadata": {
        "id": "AO11ajlZfy5M"
      }
    },
    {
      "cell_type": "markdown",
      "source": [
        "\n",
        "En numpy para definir tanto vectores como matrices se usa el comando np.array"
      ],
      "metadata": {
        "id": "YF048NHNpmjN"
      }
    },
    {
      "cell_type": "code",
      "source": [
        "v=np.array([1, 2, 3])\n",
        "v"
      ],
      "metadata": {
        "colab": {
          "base_uri": "https://localhost:8080/"
        },
        "id": "mRVbq1v3gyE5",
        "outputId": "333fefe7-866a-4c2f-f8ed-07b2ae6aaf1d"
      },
      "execution_count": null,
      "outputs": [
        {
          "output_type": "execute_result",
          "data": {
            "text/plain": [
              "array([1, 2, 3])"
            ]
          },
          "metadata": {},
          "execution_count": 162
        }
      ]
    },
    {
      "cell_type": "markdown",
      "source": [
        "Esto me da un vector fila. Para ver las dimensiones de este vector se usa la función np.shape"
      ],
      "metadata": {
        "id": "QesYK1-1g-Qe"
      }
    },
    {
      "cell_type": "code",
      "source": [
        "np.shape(v)"
      ],
      "metadata": {
        "colab": {
          "base_uri": "https://localhost:8080/"
        },
        "id": "kjwQsJuFhGSn",
        "outputId": "9e02b8da-89fd-48b3-f1c5-20b7dacba0be"
      },
      "execution_count": null,
      "outputs": [
        {
          "output_type": "execute_result",
          "data": {
            "text/plain": [
              "(3,)"
            ]
          },
          "metadata": {},
          "execution_count": 92
        }
      ]
    },
    {
      "cell_type": "markdown",
      "source": [
        "Para Python, un vector de dimensiones (3,) no es lo mismo que una matriz de dimensiones (1,3). Si queremos al vector v pasarlo a tener dimensiones (1,3) (matriz de 1 fila y 3 columnas) o a un vector columna (una matriz de 3 filas y 1 columna) hay que usar el comando reshape que se aplica sobre v:"
      ],
      "metadata": {
        "id": "DzXd3a7ChODV"
      }
    },
    {
      "cell_type": "code",
      "source": [
        "v_fila=v.reshape((1,3))\n",
        "v_fila"
      ],
      "metadata": {
        "colab": {
          "base_uri": "https://localhost:8080/"
        },
        "id": "1QVfO1VDhVgZ",
        "outputId": "91100427-dce6-48d3-b3a4-21278b9c0589"
      },
      "execution_count": null,
      "outputs": [
        {
          "output_type": "execute_result",
          "data": {
            "text/plain": [
              "array([[1, 2, 3]])"
            ]
          },
          "metadata": {},
          "execution_count": 96
        }
      ]
    },
    {
      "cell_type": "code",
      "source": [
        "np.shape(v_fila)"
      ],
      "metadata": {
        "colab": {
          "base_uri": "https://localhost:8080/"
        },
        "id": "0xx0UUEABQLC",
        "outputId": "9d37e30f-322d-44bd-c6be-e157a44541bb"
      },
      "execution_count": null,
      "outputs": [
        {
          "output_type": "execute_result",
          "data": {
            "text/plain": [
              "(1, 3)"
            ]
          },
          "metadata": {},
          "execution_count": 163
        }
      ]
    },
    {
      "cell_type": "code",
      "source": [
        "v_columna = v.reshape((3,1))\n",
        "v_columna"
      ],
      "metadata": {
        "colab": {
          "base_uri": "https://localhost:8080/"
        },
        "id": "FfRPKF4yiMIZ",
        "outputId": "3d3f5ec7-d1f9-4fa5-a212-032997bc26d6"
      },
      "execution_count": null,
      "outputs": [
        {
          "output_type": "execute_result",
          "data": {
            "text/plain": [
              "array([[1],\n",
              "       [2],\n",
              "       [3]])"
            ]
          },
          "metadata": {},
          "execution_count": 97
        }
      ]
    },
    {
      "cell_type": "markdown",
      "source": [
        "Si queremos ahora definir una matriz de 3x3"
      ],
      "metadata": {
        "id": "_k1dFCGtiUXZ"
      }
    },
    {
      "cell_type": "code",
      "source": [
        "A=np.array([[1, 2, 3],\n",
        "            [4, 5, 6],\n",
        "            [7, 8, 9]])\n",
        "A"
      ],
      "metadata": {
        "colab": {
          "base_uri": "https://localhost:8080/"
        },
        "id": "2W6bycB6iXU5",
        "outputId": "862734fd-3377-4778-a1ea-98c2698196bb"
      },
      "execution_count": null,
      "outputs": [
        {
          "output_type": "execute_result",
          "data": {
            "text/plain": [
              "array([[1, 2, 3],\n",
              "       [4, 5, 6],\n",
              "       [7, 8, 9]])"
            ]
          },
          "metadata": {},
          "execution_count": 164
        }
      ]
    },
    {
      "cell_type": "code",
      "source": [
        "np.shape(A)"
      ],
      "metadata": {
        "colab": {
          "base_uri": "https://localhost:8080/"
        },
        "id": "9O_NBudqBmCp",
        "outputId": "ee48a1ee-0cae-40c1-dbee-b85b126c39b2"
      },
      "execution_count": null,
      "outputs": [
        {
          "output_type": "execute_result",
          "data": {
            "text/plain": [
              "(3, 3)"
            ]
          },
          "metadata": {},
          "execution_count": 165
        }
      ]
    },
    {
      "cell_type": "markdown",
      "source": [
        "Para multiplicar un vector por una matriz, podemos usar el comando @"
      ],
      "metadata": {
        "id": "DZ4tJuhaigZ1"
      }
    },
    {
      "cell_type": "code",
      "source": [
        "A@v"
      ],
      "metadata": {
        "colab": {
          "base_uri": "https://localhost:8080/"
        },
        "id": "wwUBEXmNil69",
        "outputId": "84d3c45e-349a-46f3-a83e-86bed59059df"
      },
      "execution_count": null,
      "outputs": [
        {
          "output_type": "execute_result",
          "data": {
            "text/plain": [
              "array([14, 32, 50])"
            ]
          },
          "metadata": {},
          "execution_count": 166
        }
      ]
    },
    {
      "cell_type": "code",
      "source": [
        "np.shape(A@v)"
      ],
      "metadata": {
        "colab": {
          "base_uri": "https://localhost:8080/"
        },
        "id": "41HpSTrMipFy",
        "outputId": "e7d818d3-242b-4282-a695-9d93e40baf4c"
      },
      "execution_count": null,
      "outputs": [
        {
          "output_type": "execute_result",
          "data": {
            "text/plain": [
              "(3,)"
            ]
          },
          "metadata": {},
          "execution_count": 167
        }
      ]
    },
    {
      "cell_type": "markdown",
      "source": [
        "Es decir, multiplicamos un vector por una matriz y nos da como resultado un vector."
      ],
      "metadata": {
        "id": "73AoNxJOit60"
      }
    },
    {
      "cell_type": "code",
      "source": [
        "A@v_columna"
      ],
      "metadata": {
        "colab": {
          "base_uri": "https://localhost:8080/"
        },
        "id": "65IauBUTjHse",
        "outputId": "8db7b53c-c73d-4c22-d414-b8ae96292928"
      },
      "execution_count": null,
      "outputs": [
        {
          "output_type": "execute_result",
          "data": {
            "text/plain": [
              "array([[14],\n",
              "       [32],\n",
              "       [50]])"
            ]
          },
          "metadata": {},
          "execution_count": 168
        }
      ]
    },
    {
      "cell_type": "code",
      "source": [
        "np.matmul(A, v_columna)"
      ],
      "metadata": {
        "colab": {
          "base_uri": "https://localhost:8080/"
        },
        "id": "WNJ4s_vsCR0E",
        "outputId": "76050154-be8d-496a-d98e-8947659c6a29"
      },
      "execution_count": null,
      "outputs": [
        {
          "output_type": "execute_result",
          "data": {
            "text/plain": [
              "array([[14],\n",
              "       [32],\n",
              "       [50]])"
            ]
          },
          "metadata": {},
          "execution_count": 171
        }
      ]
    },
    {
      "cell_type": "code",
      "source": [
        "v_fila@A"
      ],
      "metadata": {
        "colab": {
          "base_uri": "https://localhost:8080/"
        },
        "id": "5mhrDreDCCxc",
        "outputId": "5d9acc2c-7cb4-4230-ef49-79ed33941f7e"
      },
      "execution_count": null,
      "outputs": [
        {
          "output_type": "execute_result",
          "data": {
            "text/plain": [
              "array([[30, 36, 42]])"
            ]
          },
          "metadata": {},
          "execution_count": 170
        }
      ]
    },
    {
      "cell_type": "code",
      "source": [
        "u=np.array([-1,0,2])\n",
        "np.dot(u,v)"
      ],
      "metadata": {
        "colab": {
          "base_uri": "https://localhost:8080/"
        },
        "id": "nDWeAwv_CuMS",
        "outputId": "f4a9368d-afe6-4ef3-f1a1-82360cc052fb"
      },
      "execution_count": null,
      "outputs": [
        {
          "output_type": "execute_result",
          "data": {
            "text/plain": [
              "np.int64(5)"
            ]
          },
          "metadata": {},
          "execution_count": 174
        }
      ]
    },
    {
      "cell_type": "markdown",
      "source": [
        "#Ejercicio\n",
        "\n",
        "Definir un vector de pesos $w=(w_1,\\dots,w_n)$ y un sesgo $b$ y luego definir una neurona que reciba entradas $x_1,\\dots, x_n$ le aplique los pesos $w$, el sesgo $b$, alguna de las funciones de activación $\\phi$ que definimos antes y nos de la salida $y$."
      ],
      "metadata": {
        "id": "3bmndOEkjQ51"
      }
    },
    {
      "cell_type": "code",
      "source": [
        "N=3\n",
        "w = 2 * np.random.rand(N) - 1\n",
        "w"
      ],
      "metadata": {
        "colab": {
          "base_uri": "https://localhost:8080/"
        },
        "id": "YtynUmAbDEge",
        "outputId": "1732188f-c163-4481-b704-2db635d468d2"
      },
      "execution_count": null,
      "outputs": [
        {
          "output_type": "execute_result",
          "data": {
            "text/plain": [
              "array([ 0.84844056,  0.47171552, -0.58679181])"
            ]
          },
          "metadata": {},
          "execution_count": 181
        }
      ]
    }
  ]
}