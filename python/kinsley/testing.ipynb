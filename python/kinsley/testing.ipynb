{
 "cells": [
  {
   "cell_type": "code",
   "execution_count": 9,
   "metadata": {},
   "outputs": [
    {
     "name": "stdout",
     "output_type": "stream",
     "text": [
      "acc:  0.6666666666666666\n"
     ]
    }
   ],
   "source": [
    "# Celda de testing\n",
    "\n",
    "import numpy as np\n",
    "\n",
    "# Simulo probabilidades de 3 samples\n",
    "softmax_outputs = np.array([[0.7, 0.1, 0.2],\n",
    "                            [0.5, 0.1, 0.4], # i was raging RAHH\n",
    "                            [0.02, 0.9, 0.08]])\n",
    "# Etiquetas objetivo para 3 samples\n",
    "class_targets = np.array([0,1,1])\n",
    "# Calculamos valores a lo largo de segundo eje (eje 1)\n",
    "predictions = np.argmax(softmax_outputs, axis=1)\n",
    "# Si los objetivos estan encodeados one-hot - convertimos\n",
    "if len(class_targets.shape) == 2:\n",
    "    class_targets = np.argmax(class_targets, axis=1)\n",
    "\n",
    "# True evalua a 1, False a 0\n",
    "accuracy = np.mean(predictions == class_targets)\n",
    "print(\"acc: \", accuracy)"
   ]
  },
  {
   "cell_type": "code",
   "execution_count": 20,
   "metadata": {},
   "outputs": [
    {
     "ename": "AttributeError",
     "evalue": "'Activation_Softmax' object has no attribute 'output'",
     "output_type": "error",
     "traceback": [
      "\u001b[0;31m---------------------------------------------------------------------------\u001b[0m",
      "\u001b[0;31mAttributeError\u001b[0m                            Traceback (most recent call last)",
      "Cell \u001b[0;32mIn[20], line 8\u001b[0m\n\u001b[1;32m      5\u001b[0m dsoftmax \u001b[38;5;241m=\u001b[39m [\u001b[38;5;241m0.1\u001b[39m, \u001b[38;5;241m-\u001b[39m\u001b[38;5;241m0.3\u001b[39m, \u001b[38;5;241m0.2\u001b[39m]\n\u001b[1;32m      7\u001b[0m softmax \u001b[38;5;241m=\u001b[39m Activation_Softmax()\n\u001b[0;32m----> 8\u001b[0m softmax\u001b[38;5;241m.\u001b[39mbackward(dsoftmax)\n",
      "File \u001b[0;32m~/Documents/facultad/fundamentos-matematicos-del-aprendizaje-profundo/python/kinsley/DNN.py:58\u001b[0m, in \u001b[0;36mActivation_Softmax.backward\u001b[0;34m(self, dvalues)\u001b[0m\n\u001b[1;32m     55\u001b[0m \u001b[38;5;28mself\u001b[39m\u001b[38;5;241m.\u001b[39mdinputs \u001b[38;5;241m=\u001b[39m np\u001b[38;5;241m.\u001b[39mempty_like(dvalues)\n\u001b[1;32m     57\u001b[0m \u001b[38;5;66;03m# Enumeramos salidas y gradientes\u001b[39;00m\n\u001b[0;32m---> 58\u001b[0m \u001b[38;5;28;01mfor\u001b[39;00m index, (single_output, single_dvalues) \u001b[38;5;129;01min\u001b[39;00m \u001b[38;5;28menumerate\u001b[39m(\u001b[38;5;28mzip\u001b[39m(\u001b[38;5;28mself\u001b[39m\u001b[38;5;241m.\u001b[39moutput, dvalues)): \u001b[38;5;66;03m# algun dia entendere que hace enum..\u001b[39;00m\n\u001b[1;32m     59\u001b[0m     \u001b[38;5;66;03m# Aplastamos array de salida\u001b[39;00m\n\u001b[1;32m     60\u001b[0m     single_output \u001b[38;5;241m=\u001b[39m single_output\u001b[38;5;241m.\u001b[39mreshape(\u001b[38;5;241m-\u001b[39m\u001b[38;5;241m1\u001b[39m, \u001b[38;5;241m1\u001b[39m)\n\u001b[1;32m     61\u001b[0m     \u001b[38;5;66;03m# Calculamos el jacobiano de las salidas\u001b[39;00m\n",
      "\u001b[0;31mAttributeError\u001b[0m: 'Activation_Softmax' object has no attribute 'output'"
     ]
    }
   ],
   "source": [
    "import numpy as np\n",
    "from DNN import Activation_Softmax\n",
    "\n",
    "softmax_output = [0.7, 0.1, 0.2]\n",
    "dsoftmax = [0.1, -0.3, 0.2]\n",
    "\n",
    "softmax = Activation_Softmax()\n",
    "softmax.backward(dsoftmax)\n"
   ]
  },
  {
   "cell_type": "code",
   "execution_count": null,
   "metadata": {},
   "outputs": [],
   "source": []
  }
 ],
 "metadata": {
  "kernelspec": {
   "display_name": "labo-datos",
   "language": "python",
   "name": "python3"
  },
  "language_info": {
   "codemirror_mode": {
    "name": "ipython",
    "version": 3
   },
   "file_extension": ".py",
   "mimetype": "text/x-python",
   "name": "python",
   "nbconvert_exporter": "python",
   "pygments_lexer": "ipython3",
   "version": "3.13.2"
  }
 },
 "nbformat": 4,
 "nbformat_minor": 2
}
